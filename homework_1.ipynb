{
 "cells": [
  {
   "cell_type": "markdown",
   "metadata": {},
   "source": [
    "# Machine Learning Homework 1"
   ]
  },
  {
   "cell_type": "code",
   "execution_count": 434,
   "metadata": {},
   "outputs": [],
   "source": [
    "import numpy as np\n",
    "import matplotlib.pyplot as plt\n",
    "\n",
    "n = 3\n",
    "l = 10000"
   ]
  },
  {
   "cell_type": "code",
   "execution_count": 435,
   "metadata": {},
   "outputs": [
    {
     "name": "stdout",
     "output_type": "stream",
     "text": [
      "[[-5.         51.76405235]\n",
      " [-4.79591837 45.42306433]\n",
      " [-4.59183673 41.2744481 ]\n",
      " [-3.97959184 26.6362165 ]\n",
      " [-3.57142857 20.25680606]\n",
      " [-2.95918367 11.61842924]\n",
      " [-2.75510204 10.45052507]\n",
      " [-1.73469388  1.84809823]\n",
      " [-1.32653061 -1.04053496]\n",
      " [-0.91836735 -4.6146308 ]\n",
      " [-0.71428571 -1.38719773]\n",
      " [-0.30612245 -1.9916444 ]\n",
      " [ 0.10204082 -0.91292461]\n",
      " [ 0.71428571  6.63482003]\n",
      " [ 1.12244898  9.54686746]\n",
      " [ 1.73469388 15.72016147]\n",
      " [ 1.93877551 20.62251684]\n",
      " [ 2.55102041 33.48059726]\n",
      " [ 2.95918367 40.76391966]\n",
      " [ 3.97959184 66.89976056]\n",
      " [ 4.3877551  78.44316466]\n",
      " [ 4.59183673 86.99156782]\n",
      " [ 5.         99.78725972]]\n"
     ]
    }
   ],
   "source": [
    "# preprocess input file\n",
    "\n",
    "data_points = []\n",
    "with open('test.txt', 'r') as f:\n",
    "    for line in f.read().splitlines():\n",
    "        x, y = line.split(',')\n",
    "        data_points.append((float(x), float(y)))\n",
    "data_points = np.array(data_points)\n",
    "print(data_points)"
   ]
  },
  {
   "cell_type": "code",
   "execution_count": 436,
   "metadata": {},
   "outputs": [],
   "source": [
    "# get inverse of matrix\n",
    "\n",
    "def inverse(matrix):\n",
    "    size = matrix.shape[0]\n",
    "    \n",
    "    # LU decomposition\n",
    "    U = np.copy(matrix)\n",
    "    L = np.identity(size)\n",
    "    \n",
    "    for i in range(size):\n",
    "        for j in range(i+1, size):\n",
    "            rate = U[j][i]/U[i][i]\n",
    "            U[j] = U[j] - U[i]*rate\n",
    "            L[j][i] = rate\n",
    "    \n",
    "    # calculate inverse of matrix\n",
    "    I = np.identity(size)\n",
    "    D = np.zeros((size, size))\n",
    "    for i in range(size):\n",
    "        d = np.zeros(size)\n",
    "        d[0] = I[i, 0]\n",
    "        for j in range(1, size):\n",
    "            d[j] = I[i, j] - L[j,:j].dot(d[:j])\n",
    "        D[:, i] = d\n",
    "    inv = np.zeros((size, size))\n",
    "    for i in range(size):\n",
    "        v = np.zeros(size)\n",
    "        v[size-1] = D[size-1, i]/U[size-1, size-1]\n",
    "        for j in range(size-2, -1, -1):\n",
    "            v[j] = (D[j, i] - U[j, j+1:].dot(v[j+1:]))/U[j, j]\n",
    "        inv[:, i] = v\n",
    "    \n",
    "    return inv"
   ]
  },
  {
   "cell_type": "markdown",
   "metadata": {},
   "source": [
    "## Least Square Error"
   ]
  },
  {
   "cell_type": "code",
   "execution_count": 437,
   "metadata": {},
   "outputs": [
    {
     "name": "stdout",
     "output_type": "stream",
     "text": [
      "[0.83453328 0.0931482  0.0469507 ]\n"
     ]
    }
   ],
   "source": [
    "# perform LSE\n",
    "\n",
    "A = np.ones((data_points.shape[0], n))\n",
    "for i in range(1, n):\n",
    "    A[:, n-i-1] = data_points[:, 0]**i\n",
    "b = data_points[:, 1]    \n",
    "\n",
    "lse_result = inverse(A.transpose().dot(A) + l*np.identity(A.shape[1])).dot(A.transpose()).dot(b)\n",
    "print(lse_result)"
   ]
  },
  {
   "cell_type": "markdown",
   "metadata": {},
   "source": [
    "## Newton's Method"
   ]
  },
  {
   "cell_type": "code",
   "execution_count": 438,
   "metadata": {},
   "outputs": [],
   "source": [
    "# calculate Hessian\n",
    "\n",
    "max_power = 2*n-2\n",
    "x_power_sum = np.zeros(max_power+1)\n",
    "for i in range(max_power+1):\n",
    "    x_power_sum[i] = (data_points[:, 0]**(max_power-i)).sum()\n",
    "H = np.zeros((n, n))\n",
    "for i in range(n):\n",
    "    for j in range(n):\n",
    "        H[i, j] = 2*x_power_sum[i+j]\n",
    "inv_H = inverse(H)"
   ]
  },
  {
   "cell_type": "code",
   "execution_count": 439,
   "metadata": {},
   "outputs": [
    {
     "name": "stdout",
     "output_type": "stream",
     "text": [
      "[ 3.02385339  4.90619026 -0.23140176]\n"
     ]
    }
   ],
   "source": [
    "old_x = np.ones((n, 1))\n",
    "new_x = np.Infinity*np.ones((n, 1))\n",
    "\n",
    "def distance(x, y):\n",
    "    v = x - y\n",
    "    dist = (v**2).sum()**0.5\n",
    "    return dist\n",
    "\n",
    "min_pass_dist = 0.001\n",
    "\n",
    "while True:\n",
    "    d_f = np.zeros((n, 1))\n",
    "    for i in range(n):\n",
    "        d_f[i] = sum([2*(data_points[j, 0]**(n-i-1))*(sum([old_x[k]*(data_points[j, 0]**(n-k-1)) for k in range(n)])-data_points[j, 1]) for j in range(data_points.shape[0])])\n",
    "    new_x = old_x - inv_H.dot(d_f.reshape(n, 1))\n",
    "    if distance(old_x, new_x) < min_pass_dist:\n",
    "        break\n",
    "    else:\n",
    "        old_x = new_x\n",
    "    \n",
    "newton_method_result = new_x[:, 0]\n",
    "print(newton_method_result)"
   ]
  },
  {
   "cell_type": "markdown",
   "metadata": {},
   "source": [
    "# Results and Comparisson"
   ]
  },
  {
   "cell_type": "code",
   "execution_count": 440,
   "metadata": {},
   "outputs": [
    {
     "name": "stdout",
     "output_type": "stream",
     "text": [
      "LSE\n",
      "Fitting line: 0.834533x^2 + 0.093148x^1 + 0.046951\n",
      "Total error: 22649.738493\n",
      "\n",
      "\n",
      "Newton's method\n",
      "Fitting line: 3.023853x^2 + 4.906190x^1 + -0.231402\n",
      "Total error: 26.559959\n"
     ]
    },
    {
     "data": {
      "image/png": "[encoded data removed]",
      "text/plain": [
       "<Figure size 1332x360 with 2 Axes>"
      ]
     },
     "metadata": {
      "needs_background": "light"
     },
     "output_type": "display_data"
    }
   ],
   "source": [
    "M = np.max(data_points[:, 0])\n",
    "m = np.min(data_points[:, 0])\n",
    "left = m - (M-m)*0.1\n",
    "right = M + (M-m)*0.1\n",
    "\n",
    "x = np.linspace(left, right, data_points.shape[0]*10)\n",
    "_x = np.ones((x.size, n))\n",
    "for i in range(1, n):\n",
    "    _x[:, n-i-1] = x**i\n",
    "lse_y = _x.dot(lse_result)\n",
    "newton_y = _x.dot(newton_method_result)\n",
    "\n",
    "\n",
    "# graph\n",
    "\n",
    "fig, axs = plt.subplots(1, 2)\n",
    "fig.set_size_inches(18.5, 5)\n",
    "axs[0].plot(x, lse_y)\n",
    "axs[0].plot(data_points[:, 0], data_points[:, 1], 'ro')\n",
    "axs[0].set_title('Least Square Error')\n",
    "axs[1].plot(x, newton_y)\n",
    "axs[1].plot(data_points[:, 0], data_points[:, 1], 'ro')\n",
    "axs[1].set_title('Newton\\'s Method')\n",
    "\n",
    "\n",
    "# comparisson\n",
    "\n",
    "def square_error(points, line):\n",
    "    _x = np.ones((points.shape[0], line.size))\n",
    "    for i in range(1, line.size):\n",
    "        _x[:, n-i-1] = data_points[:, 0]**i\n",
    "    _y = _x.dot(line)\n",
    "    se = sum((data_points[:, 1] - _y)**2)\n",
    "    return se\n",
    "\n",
    "print('LSE')\n",
    "print('Fitting line: ', end='')\n",
    "for i in range(n-1, -1, -1):\n",
    "    if i != 0:\n",
    "        print('{:f}x^{:d} + '.format(lse_result[n-i-1], i), end='')\n",
    "    else:\n",
    "        print('{:f}'.format(lse_result[n-i-1]))\n",
    "print('Total error: {:f}'.format(square_error(data_points, lse_result)))\n",
    "print('\\n')\n",
    "print('Newton\\'s method')\n",
    "print('Fitting line: ', end='')\n",
    "for i in range(n-1, -1, -1):\n",
    "    if i != 0:\n",
    "        print('{:f}x^{:d} + '.format(newton_method_result[n-i-1], i), end='')\n",
    "    else:\n",
    "        print('{:f}'.format(newton_method_result[n-i-1]))\n",
    "print('Total error: {:f}'.format(square_error(data_points, newton_method_result)))"
   ]
  },
  {
   "cell_type": "code",
   "execution_count": null,
   "metadata": {},
   "outputs": [],
   "source": []
  }
 ],
 "metadata": {
  "kernelspec": {
   "display_name": "Python 3",
   "language": "python",
   "name": "python3"
  },
  "language_info": {
   "codemirror_mode": {
    "name": "ipython",
    "version": 3
   },
   "file_extension": ".py",
   "mimetype": "text/x-python",
   "name": "python",
   "nbconvert_exporter": "python",
   "pygments_lexer": "ipython3",
   "version": "3.7.3"
  }
 },
 "nbformat": 4,
 "nbformat_minor": 2
}
