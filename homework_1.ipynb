{
 "cells": [
  {
   "cell_type": "markdown",
   "metadata": {},
   "source": [
    "# Machine Learning Homework 1"
   ]
  },
  {
   "cell_type": "markdown",
   "metadata": {},
   "source": [
    "## Least Square Error"
   ]
  },
  {
   "cell_type": "code",
   "execution_count": 240,
   "metadata": {},
   "outputs": [],
   "source": [
    "import numpy as np\n",
    "import matplotlib.pyplot as plt\n",
    "\n",
    "n = 3\n",
    "l = 0"
   ]
  },
  {
   "cell_type": "code",
   "execution_count": 241,
   "metadata": {},
   "outputs": [
    {
     "name": "stdout",
     "output_type": "stream",
     "text": [
      "[[-5.         51.76405235]\n",
      " [-4.79591837 45.42306433]\n",
      " [-4.59183673 41.2744481 ]\n",
      " [-3.97959184 26.6362165 ]\n",
      " [-3.57142857 20.25680606]\n",
      " [-2.95918367 11.61842924]\n",
      " [-2.75510204 10.45052507]\n",
      " [-1.73469388  1.84809823]\n",
      " [-1.32653061 -1.04053496]\n",
      " [-0.91836735 -4.6146308 ]\n",
      " [-0.71428571 -1.38719773]\n",
      " [-0.30612245 -1.9916444 ]\n",
      " [ 0.10204082 -0.91292461]\n",
      " [ 0.71428571  6.63482003]\n",
      " [ 1.12244898  9.54686746]\n",
      " [ 1.73469388 15.72016147]\n",
      " [ 1.93877551 20.62251684]\n",
      " [ 2.55102041 33.48059726]\n",
      " [ 2.95918367 40.76391966]\n",
      " [ 3.97959184 66.89976056]\n",
      " [ 4.3877551  78.44316466]\n",
      " [ 4.59183673 86.99156782]\n",
      " [ 5.         99.78725972]]\n"
     ]
    }
   ],
   "source": [
    "# preprocess input file\n",
    "\n",
    "data_points = []\n",
    "with open('test.txt', 'r') as f:\n",
    "    for line in f.read().splitlines():\n",
    "        x, y = line.split(',')\n",
    "        data_points.append((float(x), float(y)))\n",
    "data_points = np.array(data_points)\n",
    "print(data_points)"
   ]
  },
  {
   "cell_type": "code",
   "execution_count": 247,
   "metadata": {},
   "outputs": [],
   "source": [
    "# get inverse of matrix\n",
    "\n",
    "def inverse(matrix):\n",
    "    size = matrix.shape[0]\n",
    "    \n",
    "    # LU decomposition\n",
    "    U = np.copy(matrix)\n",
    "    L = np.identity(size)\n",
    "    \n",
    "    for i in range(size):\n",
    "        for j in range(i+1, size):\n",
    "            rate = U[j][i]/U[i][i]\n",
    "            U[j] = U[j] - U[i]*rate\n",
    "            L[j][i] = rate\n",
    "    \n",
    "    # calculate inverse of matrix\n",
    "    I = np.identity(size)\n",
    "    D = np.zeros((size, size))\n",
    "    for i in range(size):\n",
    "        d = np.zeros(size)\n",
    "        d[0] = I[i, 0]\n",
    "        for j in range(1, size):\n",
    "            d[j] = I[i, j] - L[j,:j].dot(d[:j])\n",
    "        D[:, i] = d\n",
    "    inv = np.zeros((size, size))\n",
    "    for i in range(size):\n",
    "        v = np.zeros(size)\n",
    "        v[size-1] = D[size-1, i]/U[size-1, size-1]\n",
    "        for j in range(size-2, -1, -1):\n",
    "            v[j] = (D[j, i] - U[j, j+1:].dot(v[j+1:]))/U[j, j]\n",
    "        inv[:, i] = v\n",
    "    \n",
    "    return inv"
   ]
  },
  {
   "cell_type": "code",
   "execution_count": 250,
   "metadata": {},
   "outputs": [
    {
     "name": "stdout",
     "output_type": "stream",
     "text": [
      "[ 3.02385339  4.90619026 -0.23140176]\n"
     ]
    }
   ],
   "source": [
    "# perform LSE\n",
    "\n",
    "A = np.ones((data_points.shape[0], n))\n",
    "for i in range(1, n):\n",
    "    A[:, n-i-1] = data_points[:, 0]**i\n",
    "b = data_points[:, 1]    \n",
    "\n",
    "v = inverse(A.transpose().dot(A) + l*np.identity(A.shape[1])).dot(A.transpose()).dot(b)\n",
    "print(v)"
   ]
  },
  {
   "cell_type": "code",
   "execution_count": 255,
   "metadata": {},
   "outputs": [
    {
     "data": {
      "image/png": "[encoded data removed]",
      "text/plain": [
       "<Figure size 432x288 with 1 Axes>"
      ]
     },
     "metadata": {
      "needs_background": "light"
     },
     "output_type": "display_data"
    }
   ],
   "source": [
    "# visualize the result\n",
    "\n",
    "M = np.max(data_points[:, 0])\n",
    "m = np.min(data_points[:, 0])\n",
    "left = m - (M-m)*0.1\n",
    "right = M + (M-m)*0.1\n",
    "\n",
    "x = np.linspace(left, right, data_points.shape[0]*10)\n",
    "_x = np.ones((x.size, n))\n",
    "for i in range(1, n):\n",
    "    _x[:, n-i-1] = x**i\n",
    "y = _x.dot(v)\n",
    "\n",
    "plt.plot(data_points[:, 0], data_points[:, 1], 'ro')\n",
    "plt.plot(x, y)\n",
    "plt.show()"
   ]
  },
  {
   "cell_type": "markdown",
   "metadata": {},
   "source": [
    "## Newton's Method"
   ]
  },
  {
   "cell_type": "code",
   "execution_count": null,
   "metadata": {},
   "outputs": [],
   "source": []
  }
 ],
 "metadata": {
  "kernelspec": {
   "display_name": "Python 3",
   "language": "python",
   "name": "python3"
  },
  "language_info": {
   "codemirror_mode": {
    "name": "ipython",
    "version": 3
   },
   "file_extension": ".py",
   "mimetype": "text/x-python",
   "name": "python",
   "nbconvert_exporter": "python",
   "pygments_lexer": "ipython3",
   "version": "3.7.3"
  }
 },
 "nbformat": 4,
 "nbformat_minor": 2
}
