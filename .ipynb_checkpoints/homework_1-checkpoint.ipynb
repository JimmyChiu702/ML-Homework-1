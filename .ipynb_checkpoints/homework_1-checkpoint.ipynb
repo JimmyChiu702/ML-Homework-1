{
 "cells": [
  {
   "cell_type": "markdown",
   "metadata": {},
   "source": [
    "# Machine Learning Homework 1"
   ]
  },
  {
   "cell_type": "markdown",
   "metadata": {},
   "source": [
    "## Least Square Error"
   ]
  },
  {
   "cell_type": "code",
   "execution_count": 341,
   "metadata": {},
   "outputs": [],
   "source": [
    "import numpy as np\n",
    "import matplotlib.pyplot as plt\n",
    "\n",
    "n = 4\n",
    "l = 0"
   ]
  },
  {
   "cell_type": "code",
   "execution_count": 342,
   "metadata": {},
   "outputs": [
    {
     "name": "stdout",
     "output_type": "stream",
     "text": [
      "[[-5.         51.76405235]\n",
      " [-4.79591837 45.42306433]\n",
      " [-4.59183673 41.2744481 ]\n",
      " [-3.97959184 26.6362165 ]\n",
      " [-3.57142857 20.25680606]\n",
      " [-2.95918367 11.61842924]\n",
      " [-2.75510204 10.45052507]\n",
      " [-1.73469388  1.84809823]\n",
      " [-1.32653061 -1.04053496]\n",
      " [-0.91836735 -4.6146308 ]\n",
      " [-0.71428571 -1.38719773]\n",
      " [-0.30612245 -1.9916444 ]\n",
      " [ 0.10204082 -0.91292461]\n",
      " [ 0.71428571  6.63482003]\n",
      " [ 1.12244898  9.54686746]\n",
      " [ 1.73469388 15.72016147]\n",
      " [ 1.93877551 20.62251684]\n",
      " [ 2.55102041 33.48059726]\n",
      " [ 2.95918367 40.76391966]\n",
      " [ 3.97959184 66.89976056]\n",
      " [ 4.3877551  78.44316466]\n",
      " [ 4.59183673 86.99156782]\n",
      " [ 5.         99.78725972]]\n"
     ]
    }
   ],
   "source": [
    "# preprocess input file\n",
    "\n",
    "data_points = []\n",
    "with open('test.txt', 'r') as f:\n",
    "    for line in f.read().splitlines():\n",
    "        x, y = line.split(',')\n",
    "        data_points.append((float(x), float(y)))\n",
    "data_points = np.array(data_points)\n",
    "print(data_points)"
   ]
  },
  {
   "cell_type": "code",
   "execution_count": 343,
   "metadata": {},
   "outputs": [],
   "source": [
    "# get inverse of matrix\n",
    "\n",
    "def inverse(matrix):\n",
    "    size = matrix.shape[0]\n",
    "    \n",
    "    # LU decomposition\n",
    "    U = np.copy(matrix)\n",
    "    L = np.identity(size)\n",
    "    \n",
    "    for i in range(size):\n",
    "        for j in range(i+1, size):\n",
    "            rate = U[j][i]/U[i][i]\n",
    "            U[j] = U[j] - U[i]*rate\n",
    "            L[j][i] = rate\n",
    "    \n",
    "    # calculate inverse of matrix\n",
    "    I = np.identity(size)\n",
    "    D = np.zeros((size, size))\n",
    "    for i in range(size):\n",
    "        d = np.zeros(size)\n",
    "        d[0] = I[i, 0]\n",
    "        for j in range(1, size):\n",
    "            d[j] = I[i, j] - L[j,:j].dot(d[:j])\n",
    "        D[:, i] = d\n",
    "    inv = np.zeros((size, size))\n",
    "    for i in range(size):\n",
    "        v = np.zeros(size)\n",
    "        v[size-1] = D[size-1, i]/U[size-1, size-1]\n",
    "        for j in range(size-2, -1, -1):\n",
    "            v[j] = (D[j, i] - U[j, j+1:].dot(v[j+1:]))/U[j, j]\n",
    "        inv[:, i] = v\n",
    "    \n",
    "    return inv"
   ]
  },
  {
   "cell_type": "code",
   "execution_count": 344,
   "metadata": {},
   "outputs": [
    {
     "name": "stdout",
     "output_type": "stream",
     "text": [
      "[-2.48170215e-03  3.02356406e+00  4.95014878e+00 -2.29310179e-01]\n"
     ]
    }
   ],
   "source": [
    "# perform LSE\n",
    "\n",
    "A = np.ones((data_points.shape[0], n))\n",
    "for i in range(1, n):\n",
    "    A[:, n-i-1] = data_points[:, 0]**i\n",
    "b = data_points[:, 1]    \n",
    "\n",
    "v = inverse(A.transpose().dot(A) + l*np.identity(A.shape[1])).dot(A.transpose()).dot(b)\n",
    "print(v)"
   ]
  },
  {
   "cell_type": "code",
   "execution_count": 345,
   "metadata": {},
   "outputs": [
    {
     "data": {
      "image/png": "[encoded data removed]",
      "text/plain": [
       "<Figure size 432x288 with 1 Axes>"
      ]
     },
     "metadata": {
      "needs_background": "light"
     },
     "output_type": "display_data"
    }
   ],
   "source": [
    "# visualize the result\n",
    "\n",
    "M = np.max(data_points[:, 0])\n",
    "m = np.min(data_points[:, 0])\n",
    "left = m - (M-m)*0.1\n",
    "right = M + (M-m)*0.1\n",
    "\n",
    "x = np.linspace(left, right, data_points.shape[0]*10)\n",
    "_x = np.ones((x.size, n))\n",
    "for i in range(1, n):\n",
    "    _x[:, n-i-1] = x**i\n",
    "y = _x.dot(v)\n",
    "\n",
    "plt.plot(data_points[:, 0], data_points[:, 1], 'ro')\n",
    "plt.plot(x, y)\n",
    "plt.show()"
   ]
  },
  {
   "cell_type": "markdown",
   "metadata": {},
   "source": [
    "## Newton's Method"
   ]
  },
  {
   "cell_type": "code",
   "execution_count": 346,
   "metadata": {},
   "outputs": [
    {
     "name": "stdout",
     "output_type": "stream",
     "text": [
      "[[ 1.62986855e+05 -3.03644203e+03  7.98932153e+03 -1.40271061e+02]\n",
      " [-3.03644203e+03  7.98932153e+03 -1.40271061e+02  4.50458142e+02]\n",
      " [ 7.98932153e+03 -1.40271061e+02  4.50458142e+02 -7.14285714e+00]\n",
      " [-1.40271061e+02  4.50458142e+02 -7.14285714e+00  4.60000000e+01]]\n",
      "[[ 4.70902672e-05  5.49016311e-06 -8.34112257e-04 -3.96876445e-05]\n",
      " [ 5.49016311e-06  2.80974082e-04 -5.33746239e-05 -2.74300434e-03]\n",
      " [-8.34112257e-04 -5.33746239e-05  1.70069800e-02  6.19992425e-04]\n",
      " [-3.96876445e-05 -2.74300434e-03  6.19992425e-04  4.85754376e-02]]\n",
      "[ 8.14934274e+04 -1.51822102e+03  3.99466077e+03 -7.01355303e+01\n",
      "  2.25229071e+02 -3.57142857e+00  2.30000000e+01]\n"
     ]
    }
   ],
   "source": [
    "# calculate Hessian\n",
    "\n",
    "max_power = 2*n-2\n",
    "x_power_sum = np.zeros(max_power+1)\n",
    "for i in range(max_power+1):\n",
    "    x_power_sum[i] = (data_points[:, 0]**(max_power-i)).sum()\n",
    "H = np.zeros((n, n))\n",
    "for i in range(n):\n",
    "    for j in range(n):\n",
    "        H[i, j] = 2*x_power_sum[i+j]\n",
    "print(H)\n",
    "inv_H = inverse(H)\n",
    "print(inv_H)\n",
    "print(x_power_sum)"
   ]
  },
  {
   "cell_type": "code",
   "execution_count": 347,
   "metadata": {},
   "outputs": [
    {
     "name": "stdout",
     "output_type": "stream",
     "text": [
      "[[ 1.06125959]\n",
      " [ 1.24165846]\n",
      " [-1.35571733]\n",
      " [ 1.79385838]]\n",
      "[[ 1.11443548]\n",
      " [ 1.4514281 ]\n",
      " [-3.40057849]\n",
      " [ 2.48296065]]\n",
      "[[ 1.16059437]\n",
      " [ 1.63351693]\n",
      " [-5.17560349]\n",
      " [ 3.08113023]]\n",
      "[[ 1.20066223]\n",
      " [ 1.79157765]\n",
      " [-6.71639943]\n",
      " [ 3.60036645]]\n",
      "[[ 1.2354428 ]\n",
      " [ 1.92878096]\n",
      " [-8.05387474]\n",
      " [ 4.05108521]]\n",
      "[[ 1.26563379]\n",
      " [ 2.04787917]\n",
      " [-9.21485925]\n",
      " [ 4.44232794]]\n",
      "[[  1.29184083]\n",
      " [  2.1512614 ]\n",
      " [-10.22264235]\n",
      " [  4.78194299]]\n",
      "[[  1.31458964]\n",
      " [  2.2410015 ]\n",
      " [-11.09744023]\n",
      " [  5.07674305]]\n",
      "[[  1.33433655]\n",
      " [  2.31889966]\n",
      " [-11.85680138]\n",
      " [  5.33264184]]\n",
      "[[  1.3514777 ]\n",
      " [  2.38651852]\n",
      " [-12.51595861]\n",
      " [  5.55477269]]\n",
      "[[  1.36635694]\n",
      " [  2.44521452]\n",
      " [-13.08813465]\n",
      " [  5.74759155]]\n",
      "[[  1.37927273]\n",
      " [  2.4961651 ]\n",
      " [-13.58480739]\n",
      " [  5.91496639]]\n",
      "[[  1.39048419]\n",
      " [  2.54039234]\n",
      " [-14.01594009]\n",
      " [  6.06025475]]\n",
      "[[  1.4002162 ]\n",
      " [  2.57878343]\n",
      " [-14.39018131]\n",
      " [  6.18637113]]\n",
      "[[  1.40866399]\n",
      " [  2.6121085 ]\n",
      " [-14.71503834]\n",
      " [  6.29584541]]\n",
      "[[  1.41599702]\n",
      " [  2.64103605]\n",
      " [-14.99702783]\n",
      " [  6.39087367]]\n",
      "[[  1.42236241]\n",
      " [  2.66614638]\n",
      " [-15.24180649]\n",
      " [  6.47336217]]\n",
      "[[  1.42788783]\n",
      " [  2.6879432 ]\n",
      " [-15.45428461]\n",
      " [  6.54496564]]\n",
      "[[  1.43268412]\n",
      " [  2.70686374]\n",
      " [-15.63872451]\n",
      " [  6.60712045]]\n",
      "[[  1.4368475 ]\n",
      " [  2.72328757]\n",
      " [-15.79882605]\n",
      " [  6.66107342]]\n",
      "[[  1.44046149]\n",
      " [  2.73754414]\n",
      " [-15.93780089]\n",
      " [  6.70790686]]\n",
      "[[  1.44359859]\n",
      " [  2.74991943]\n",
      " [-16.05843685]\n",
      " [  6.74856024]]\n",
      "[[  1.44632172]\n",
      " [  2.76066171]\n",
      " [-16.16315392]\n",
      " [  6.78384907]]\n",
      "[[  1.44868551]\n",
      " [  2.76998645]\n",
      " [-16.25405271]\n",
      " [  6.81448126]]\n",
      "[[  1.44868551]\n",
      " [  2.76998645]\n",
      " [-16.25405271]\n",
      " [  6.81448126]]\n"
     ]
    }
   ],
   "source": [
    "old_x = np.ones((n, 1))\n",
    "new_x = np.Infinity*np.ones((n, 1))\n",
    "\n",
    "def distance(x, y):\n",
    "    v = x - y\n",
    "    dist = (v**2).sum()**0.5\n",
    "    return dist\n",
    "\n",
    "min_pass_dist = 0.1\n",
    "\n",
    "while True:\n",
    "    d_f = np.zeros((n, 1))\n",
    "    for i in range(n):\n",
    "        d_f[i] = sum([2*(data_points[j, 0]**(n-i-1))*(sum([old_x[k]*(data_points[j, 0]**(n-k-1)) for k in range(n)])-data_points[j, 1])])\n",
    "    new_x = old_x - inv_H.dot(d_f.reshape(n, 1))\n",
    "    print(new_x)\n",
    "    if distance(old_x, new_x) < min_pass_dist:\n",
    "        break\n",
    "    else:\n",
    "        old_x = new_x\n",
    "    \n",
    "print(new_x)"
   ]
  },
  {
   "cell_type": "code",
   "execution_count": 348,
   "metadata": {},
   "outputs": [
    {
     "data": {
      "image/png": "[encoded data removed]",
      "text/plain": [
       "<Figure size 432x288 with 1 Axes>"
      ]
     },
     "metadata": {
      "needs_background": "light"
     },
     "output_type": "display_data"
    }
   ],
   "source": [
    "# visualize the result\n",
    "\n",
    "M = np.max(data_points[:, 0])\n",
    "m = np.min(data_points[:, 0])\n",
    "left = m - (M-m)*0.1\n",
    "right = M + (M-m)*0.1\n",
    "\n",
    "x = np.linspace(left, right, data_points.shape[0]*10)\n",
    "_x = np.ones((x.size, n))\n",
    "for i in range(1, n):\n",
    "    _x[:, n-i-1] = x**i\n",
    "y = _x.dot(new_x)\n",
    "\n",
    "plt.plot(data_points[:, 0], data_points[:, 1], 'ro')\n",
    "plt.plot(x, y)\n",
    "plt.show()"
   ]
  },
  {
   "cell_type": "code",
   "execution_count": null,
   "metadata": {},
   "outputs": [],
   "source": []
  }
 ],
 "metadata": {
  "kernelspec": {
   "display_name": "Python 3",
   "language": "python",
   "name": "python3"
  },
  "language_info": {
   "codemirror_mode": {
    "name": "ipython",
    "version": 3
   },
   "file_extension": ".py",
   "mimetype": "text/x-python",
   "name": "python",
   "nbconvert_exporter": "python",
   "pygments_lexer": "ipython3",
   "version": "3.7.3"
  }
 },
 "nbformat": 4,
 "nbformat_minor": 2
}
