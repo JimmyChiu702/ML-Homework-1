{
 "cells": [
  {
   "cell_type": "markdown",
   "metadata": {},
   "source": [
    "# Machine Learning Homework 1"
   ]
  },
  {
   "cell_type": "markdown",
   "metadata": {},
   "source": [
    "## Least Square Error"
   ]
  },
  {
   "cell_type": "code",
   "execution_count": 14,
   "metadata": {},
   "outputs": [],
   "source": [
    "import numpy as np\n",
    "\n",
    "n = 3\n",
    "l = 0"
   ]
  },
  {
   "cell_type": "code",
   "execution_count": 13,
   "metadata": {},
   "outputs": [
    {
     "name": "stdout",
     "output_type": "stream",
     "text": [
      "(-5.0, 51.76405234596766)\n",
      "(-4.795918367346939, 45.42306433039972)\n",
      "(-4.591836734693878, 41.274448104888755)\n",
      "(-3.979591836734694, 26.636216497466364)\n",
      "(-3.571428571428571, 20.256806057008426)\n",
      "(-2.9591836734693877, 11.618429243797276)\n",
      "(-2.7551020408163263, 10.450525068812203)\n",
      "(-1.7346938775510203, 1.8480982318414874)\n",
      "(-1.3265306122448979, -1.0405349639051173)\n",
      "(-0.9183673469387754, -4.614630798757861)\n",
      "(-0.7142857142857144, -1.3871977310902517)\n",
      "(-0.3061224489795915, -1.9916444039966117)\n",
      "(0.1020408163265305, -0.912924608376358)\n",
      "(0.7142857142857144, 6.63482003068499)\n",
      "(1.1224489795918373, 9.546867459016372)\n",
      "(1.7346938775510203, 15.72016146597016)\n",
      "(1.9387755102040813, 20.62251683859554)\n",
      "(2.5510204081632653, 33.48059725819715)\n",
      "(2.959183673469388, 40.76391965675495)\n",
      "(3.979591836734695, 66.8997605629381)\n",
      "(4.387755102040817, 78.44316465660981)\n",
      "(4.591836734693878, 86.99156782355371)\n",
      "(5.0, 99.78725971978604)\n"
     ]
    }
   ],
   "source": [
    "# preprocess input file\n",
    "\n",
    "data_points = []\n",
    "with open('test.txt', 'r') as f:\n",
    "    for line in f.read().splitlines():\n",
    "        x, y = line.split(',')\n",
    "        data_points.append((float(x), float(y)))\n",
    "\n",
    "for point in data_points:\n",
    "    print(point)"
   ]
  },
  {
   "cell_type": "code",
   "execution_count": 136,
   "metadata": {},
   "outputs": [
    {
     "name": "stdout",
     "output_type": "stream",
     "text": [
      "[[ 2  3  0  1]\n",
      " [ 0 -1  3  1]\n",
      " [ 0  0 -2  5]\n",
      " [ 0  0  0  4]]\n",
      "[[  1.   0.   0.   0.]\n",
      " [ -2.   1.   0.   0.]\n",
      " [  7.  -3.   1.   0.]\n",
      " [-12.   3.  -2.   1.]]\n",
      "0 2\n",
      "[-15.]\n",
      "0 1\n",
      "[-36.]\n",
      "0 0\n",
      "[-105.]\n",
      "1 2\n",
      "[3.75]\n",
      "1 1\n",
      "[10.875]\n",
      "1 0\n",
      "[30.375]\n",
      "2 2\n",
      "[-2.5]\n",
      "2 1\n",
      "[-5.75]\n",
      "2 0\n",
      "[-17.75]\n",
      "3 2\n",
      "[1.25]\n",
      "3 1\n",
      "[2.125]\n",
      "3 0\n",
      "[6.625]\n",
      "[[ 53.     -15.1875   8.875   -3.3125]\n",
      " [-34.       9.875   -5.75     2.125 ]\n",
      " [-11.       3.375   -1.75     0.625 ]\n",
      " [ -3.       0.75    -0.5      0.25  ]]\n"
     ]
    }
   ],
   "source": [
    "# get inverse of matrix\n",
    "\n",
    "def inverse(matrix):\n",
    "    size = matrix.shape[0]\n",
    "    \n",
    "    # LU decomposition\n",
    "    U = np.copy(matrix)\n",
    "    L = np.identity(size)\n",
    "    \n",
    "    for i in range(size):\n",
    "        for j in range(i+1, size):\n",
    "            rate = U[j][i]/U[i][i]\n",
    "            U[j] = U[j] - U[i]*rate\n",
    "            L[j][i] = rate\n",
    "    \n",
    "    # calculate inverse of matrix\n",
    "    I = np.identity(size)\n",
    "    for i in range(size):\n",
    "        d = np.array([[I[i, 0]]])\n",
    "        for j in range(1, size):\n",
    "            d = np.append(d, [I[i, j] - L[j,:j].dot(d)], axis=0)\n",
    "        if i == 0:\n",
    "            D = np.array(d)\n",
    "        else:\n",
    "            D = np.append(D, d, axis=1)\n",
    "    print(U)\n",
    "    print(D)\n",
    "    for i in range(size):\n",
    "        v = np.array([[D[size-1, i]/U[size-1, size-1]]])\n",
    "        for j in range(size-2, -1, -1):\n",
    "            print(i, j)\n",
    "            print(U[j, j+1:].dot(v))\n",
    "            v = np.append([(D[j, i] - U[j, j+1:].dot(v))/U[j, j]], v, axis=0)\n",
    "        if i == 0:\n",
    "            inv = np.array(v)\n",
    "        else:\n",
    "            inv = np.append(inv, v, axis=1)\n",
    "    \n",
    "    return inv"
   ]
  },
  {
   "cell_type": "code",
   "execution_count": 35,
   "metadata": {},
   "outputs": [
    {
     "name": "stdout",
     "output_type": "stream",
     "text": [
      "[[ 2.50000000e+01 -5.00000000e+00  1.00000000e+00]\n",
      " [ 2.30008330e+01 -4.79591837e+00  1.00000000e+00]\n",
      " [ 0.00000000e+00 -1.95397308e-01  8.32956089e-02]\n",
      " [ 1.58371512e+01 -3.97959184e+00  1.00000000e+00]\n",
      " [ 1.27551020e+01 -3.57142857e+00  1.00000000e+00]\n",
      " [ 8.75676801e+00 -2.95918367e+00  1.00000000e+00]\n",
      " [ 7.59058726e+00 -2.75510204e+00  1.00000000e+00]\n",
      " [ 3.00916285e+00 -1.73469388e+00  1.00000000e+00]\n",
      " [ 1.75968347e+00 -1.32653061e+00  1.00000000e+00]\n",
      " [ 8.43398584e-01 -9.18367347e-01  1.00000000e+00]\n",
      " [ 5.10204082e-01 -7.14285714e-01  1.00000000e+00]\n",
      " [ 9.37109538e-02 -3.06122449e-01  1.00000000e+00]\n",
      " [ 1.04123282e-02  1.02040816e-01  1.00000000e+00]\n",
      " [ 5.10204082e-01  7.14285714e-01  1.00000000e+00]\n",
      " [ 1.25989171e+00  1.12244898e+00  1.00000000e+00]\n",
      " [ 3.00916285e+00  1.73469388e+00  1.00000000e+00]\n",
      " [ 3.75885048e+00  1.93877551e+00  1.00000000e+00]\n",
      " [ 6.50770512e+00  2.55102041e+00  1.00000000e+00]\n",
      " [ 8.75676801e+00  2.95918367e+00  1.00000000e+00]\n",
      " [ 1.58371512e+01  3.97959184e+00  1.00000000e+00]\n",
      " [ 1.92523948e+01  4.38775510e+00  1.00000000e+00]\n",
      " [ 2.10849646e+01  4.59183673e+00  1.00000000e+00]\n",
      " [ 2.50000000e+01  5.00000000e+00  1.00000000e+00]]\n"
     ]
    }
   ],
   "source": [
    "# perform LSE\n",
    "\n",
    "A = []\n",
    "b = []\n",
    "for point in data_points:\n",
    "    new_row = []\n",
    "    for i in range(n-1, -1, -1):\n",
    "        new_row.append(point[0]**i)\n",
    "    A.append(new_row)\n",
    "    b.append(point[1])\n",
    "A = np.array(A)\n",
    "b = np.array(b).T"
   ]
  },
  {
   "cell_type": "code",
   "execution_count": 110,
   "metadata": {},
   "outputs": [
    {
     "name": "stdout",
     "output_type": "stream",
     "text": [
      "[[1]]\n",
      "(1, 1)\n"
     ]
    }
   ],
   "source": [
    "a = np.array([[1]])\n",
    "print(a)\n",
    "print(a.shape)"
   ]
  },
  {
   "cell_type": "code",
   "execution_count": null,
   "metadata": {},
   "outputs": [],
   "source": []
  }
 ],
 "metadata": {
  "kernelspec": {
   "display_name": "Python 3",
   "language": "python",
   "name": "python3"
  },
  "language_info": {
   "codemirror_mode": {
    "name": "ipython",
    "version": 3
   },
   "file_extension": ".py",
   "mimetype": "text/x-python",
   "name": "python",
   "nbconvert_exporter": "python",
   "pygments_lexer": "ipython3",
   "version": "3.7.3"
  }
 },
 "nbformat": 4,
 "nbformat_minor": 2
}
